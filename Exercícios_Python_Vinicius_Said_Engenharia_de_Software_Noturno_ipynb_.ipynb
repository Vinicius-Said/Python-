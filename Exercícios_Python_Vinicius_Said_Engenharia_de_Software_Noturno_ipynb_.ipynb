{
  "nbformat": 4,
  "nbformat_minor": 0,
  "metadata": {
    "colab": {
      "provenance": [],
      "authorship_tag": "ABX9TyPbBTdptjhPHU5MueROfsg6",
      "include_colab_link": true
    },
    "kernelspec": {
      "name": "python3",
      "display_name": "Python 3"
    },
    "language_info": {
      "name": "python"
    }
  },
  "cells": [
    {
      "cell_type": "markdown",
      "metadata": {
        "id": "view-in-github",
        "colab_type": "text"
      },
      "source": [
        "<a href=\"https://colab.research.google.com/github/Vinicius-Said/Python-/blob/main/Exerc%C3%ADcios_Python_Vinicius_Said_Engenharia_de_Software_Noturno_ipynb_.ipynb\" target=\"_parent\"><img src=\"https://colab.research.google.com/assets/colab-badge.svg\" alt=\"Open In Colab\"/></a>"
      ]
    },
    {
      "cell_type": "markdown",
      "source": [
        "#1º Exercicio:"
      ],
      "metadata": {
        "id": "77A0hdlRS9Gi"
      }
    },
    {
      "cell_type": "code",
      "source": [
        "listanum = []\n",
        "\n",
        "qtd = int(input(\"Quantidade de numero da lista: \"))\n",
        "\n",
        "\n",
        "for _ in range(qtd):\n",
        "    numero = int(input(\"Insira um numero: \"))\n",
        "    listanum.append(numero)\n",
        "\n",
        "som = sum(listanum)\n",
        "\n",
        "med = som / len(listanum)\n",
        "print(f\"a média da lista é: {med} \")"
      ],
      "metadata": {
        "colab": {
          "base_uri": "https://localhost:8080/"
        },
        "id": "sQHtNNHYTBKC",
        "outputId": "32f449ee-e800-4ac6-82ee-40a021682226"
      },
      "execution_count": null,
      "outputs": [
        {
          "output_type": "stream",
          "name": "stdout",
          "text": [
            "Quantidade de numero da lista: 3\n",
            "Insira um numero: 4\n",
            "Insira um numero: 5\n",
            "Insira um numero: 4\n",
            "a média da lista é: 4.333333333333333 \n"
          ]
        }
      ]
    },
    {
      "cell_type": "markdown",
      "source": [
        "#2º Exercicio:"
      ],
      "metadata": {
        "id": "0k1DEmgDTpEK"
      }
    },
    {
      "cell_type": "code",
      "source": [
        "stra = input(\"insira uma palavra para ver quantas vezes as letras se repetem nela: \")\n",
        "\n",
        "cont_letras = {}\n",
        "\n",
        "for letra in stra:\n",
        "    cont_letras[letra] = cont_letras.get(letra, 0) + 1\n",
        "\n",
        "for letra in cont_letras:\n",
        "    print(f\"a letra '{letra}' aparece {cont_letras[letra]} vezes.\")\n"
      ],
      "metadata": {
        "colab": {
          "base_uri": "https://localhost:8080/"
        },
        "id": "zAOrBqp_Tvwb",
        "outputId": "6696d895-5017-499b-8d17-8a42a37dd3fc"
      },
      "execution_count": null,
      "outputs": [
        {
          "output_type": "stream",
          "name": "stdout",
          "text": [
            "insira uma palavra para ver quantas vezes as letras se repetem nela: arara\n",
            "a letra 'a' aparece 3 vezes.\n",
            "a letra 'r' aparece 2 vezes.\n"
          ]
        }
      ]
    },
    {
      "cell_type": "markdown",
      "source": [
        "#3º Exercicio:"
      ],
      "metadata": {
        "id": "QAOzNAElU_qg"
      }
    },
    {
      "cell_type": "code",
      "source": [
        "palavra = input('insira uma palavra para verificar se é um palindromo:')\n",
        "if palavra == palavra[::-1]:\n",
        "  print('é um palindromo')\n",
        "else:\n",
        "  print('não é um palindromo')"
      ],
      "metadata": {
        "id": "Wl0hux1GVLW4"
      },
      "execution_count": null,
      "outputs": []
    },
    {
      "cell_type": "markdown",
      "source": [
        "#4º Exercicio:"
      ],
      "metadata": {
        "id": "f58qEaK7VXNH"
      }
    },
    {
      "cell_type": "code",
      "source": [
        "celstr = input('insira uma temperatura em celsius para ser convertida em fahrenheit: ')\n",
        "cel = float(celstr)\n",
        "tempc = cel * 9/5 + 32\n",
        "print('temperatura em farenheit: '+ str(tempc)+'°F')"
      ],
      "metadata": {
        "id": "xPh_1i49VdHC"
      },
      "execution_count": null,
      "outputs": []
    },
    {
      "cell_type": "markdown",
      "source": [
        "#5º Exercicio:"
      ],
      "metadata": {
        "id": "vOqKptMRVhkz"
      }
    },
    {
      "cell_type": "code",
      "source": [
        "numstr = input('insira um numero para ver a tabuada dele: ')\n",
        "num = int(numstr)\n",
        "i = 1\n",
        "while i <=+10:\n",
        "  res = num*i\n",
        "  print(str(num)+ 'x' + str(i) + '=' + str(res))\n",
        "  i= i+1\n"
      ],
      "metadata": {
        "id": "b8_PkE1MVk_j"
      },
      "execution_count": null,
      "outputs": []
    },
    {
      "cell_type": "markdown",
      "source": [
        "#6º Exercicio:"
      ],
      "metadata": {
        "id": "G7PV5a9KVnnE"
      }
    },
    {
      "cell_type": "code",
      "source": [
        "from random import randint\n",
        "\n",
        "vezes = int(input(\"Insira quantas vezes você deseja jogar o dado: \"))\n",
        "i = 1\n",
        "while i <= vezes:\n",
        "  dado = randint(1,6)\n",
        "  print(f\"O número que caiu na jogada {i} é {dado}.\")\n",
        "  i=i+1\n"
      ],
      "metadata": {
        "colab": {
          "base_uri": "https://localhost:8080/"
        },
        "id": "UiBbiU5DVtet",
        "outputId": "8749bae9-ec7c-427d-890d-66860bca2cd3"
      },
      "execution_count": null,
      "outputs": [
        {
          "output_type": "stream",
          "name": "stdout",
          "text": [
            "Insira quantas vezes você deseja jogar o dado: 3\n",
            "O número que caiu na jogada 1 é 4.\n",
            "O número que caiu na jogada 2 é 3.\n",
            "O número que caiu na jogada 3 é 6.\n"
          ]
        }
      ]
    },
    {
      "cell_type": "markdown",
      "source": [
        "#7º Exercicio:"
      ],
      "metadata": {
        "id": "8RIhZ5UWW-o1"
      }
    },
    {
      "cell_type": "code",
      "source": [
        "listanum = []\n",
        "\n",
        "qtd = int(input(\"Quantidade de numero: \"))\n",
        "\n",
        "for _ in range(qtd):\n",
        "\n",
        "  numero = int(input(\"Insira um numero: \"))\n",
        "  listanum.append(numero)\n",
        "\n",
        "print(f\"Aqui está a lista antes da ordenação: {listanum}\")\n",
        "print(f\"Aqui está a lista após a ordenação: {sorted(listanum)}\")"
      ],
      "metadata": {
        "colab": {
          "base_uri": "https://localhost:8080/"
        },
        "id": "NhFbPE-cXDF8",
        "outputId": "14fb552b-c62d-4d33-963c-9fc385268861"
      },
      "execution_count": null,
      "outputs": [
        {
          "output_type": "stream",
          "name": "stdout",
          "text": [
            "Quantidade de numero7\n",
            "Insira um numero1\n",
            "Insira um numero6\n",
            "Insira um numero3\n",
            "Insira um numero2\n",
            "Insira um numero8\n",
            "Insira um numero9\n",
            "Insira um numero6\n",
            "Aqui está a lista antes da ordenação: [1, 6, 3, 2, 8, 9, 6]\n",
            "Aqui está a lista após a ordenação: [1, 2, 3, 6, 6, 8, 9]\n"
          ]
        }
      ]
    },
    {
      "cell_type": "markdown",
      "source": [
        "#8º Exercicio:"
      ],
      "metadata": {
        "id": "ZMTBFN8qZmDJ"
      }
    },
    {
      "cell_type": "code",
      "source": [
        "num = int(input(\"Insira um numero para saber se ele é primo: \"))\n",
        "div = []\n",
        "\n",
        "for numtp in range(1,num+1):\n",
        "\n",
        "  if num % numtp == 0:\n",
        "    div.append(numtp)\n",
        "\n",
        "if len(div) == 2:\n",
        "  print(\"O numero é primo.\")\n",
        "else:\n",
        "  print(\"O numero que você digitou é primo.\")\n",
        "  print(f\"Divisores: {div}\")\n",
        "\n",
        "\n",
        "\n",
        "\n"
      ],
      "metadata": {
        "colab": {
          "base_uri": "https://localhost:8080/"
        },
        "id": "o4-FtCmzZolp",
        "outputId": "6376ed71-87cb-486b-c879-8484eb3b6211"
      },
      "execution_count": null,
      "outputs": [
        {
          "output_type": "stream",
          "name": "stdout",
          "text": [
            "Insira um numero para saber se ele é primo: 354\n",
            "O numero que você digitou é primo.\n",
            "Divisores: [1, 2, 3, 6, 59, 118, 177, 354]\n"
          ]
        }
      ]
    },
    {
      "cell_type": "markdown",
      "source": [
        "#9º Exercicio:"
      ],
      "metadata": {
        "id": "tSLbrhVfbKLB"
      }
    },
    {
      "cell_type": "code",
      "source": [
        "\n",
        "user = {}\n",
        "\n",
        "novo_user = input(\"Cadastre um nome de usuário: \")\n",
        "nova_senha = input(\"Cadastre uma senha: \")\n",
        "user[novo_user] = nova_senha\n",
        "\n",
        "user_login = input(\"Digite seu nome de usuário para login: \")\n",
        "senha_login = input(\"Digite sua senha: \")\n",
        "\n",
        "if user_login in user and user[user_login] == senha_login:\n",
        "    print(\"Seja bem vindo\")\n",
        "else:\n",
        "    print(\"Incorreto\")\n"
      ],
      "metadata": {
        "colab": {
          "base_uri": "https://localhost:8080/"
        },
        "id": "3mKhUERGbM8o",
        "outputId": "e2754216-1bbf-456a-c970-d1b455fcd2c2"
      },
      "execution_count": null,
      "outputs": [
        {
          "output_type": "stream",
          "name": "stdout",
          "text": [
            "Cadastre um nome de usuário: a\n",
            "Cadastre uma senha: 123\n",
            "Digite seu nome de usuário para login: a\n",
            "Digite sua senha: 123\n",
            "Seja bem vindo\n"
          ]
        }
      ]
    },
    {
      "cell_type": "markdown",
      "source": [
        "#10º Exercicio:"
      ],
      "metadata": {
        "id": "S3ZDa3K6gdWu"
      }
    },
    {
      "cell_type": "code",
      "source": [
        "num = int(input ('insira um numero para calcular seu fatorial: '))\n",
        "\n",
        "fat = 1\n",
        "\n",
        "for i in range(1,num+1):\n",
        "   fat = fat *i\n",
        "   i = i+1\n",
        "\n",
        "print(fat)\n"
      ],
      "metadata": {
        "id": "Gbu0Hpk5jsKx",
        "colab": {
          "base_uri": "https://localhost:8080/"
        },
        "outputId": "c2a49a44-b0a1-4441-db0c-3c1de626e306"
      },
      "execution_count": null,
      "outputs": [
        {
          "output_type": "stream",
          "name": "stdout",
          "text": [
            "insira um numero para calcular seu fatorial: 5\n",
            "120\n"
          ]
        }
      ]
    },
    {
      "cell_type": "markdown",
      "source": [
        "#11º Exercicio:"
      ],
      "metadata": {
        "id": "-zEJghq0juFo"
      }
    },
    {
      "cell_type": "code",
      "source": [
        "print(\"Bem vindo ao programa de conversão de moeda\\nPara qual moeda gostaria de converter seus reais?\")\n",
        "print(\"1. Dólar\")\n",
        "print(\"2. Euro\")\n",
        "opcao = int(input(\" \"))\n",
        "num = float(input(\"Agora digite o valor que gostaria de converter: R$\"))\n",
        "if opcao == 1:\n",
        "  dol = num * 0.18 - 2.50 #TAXA DE CAMBIO 2.50\n",
        "  print(f\"O valor em doláres fica: U${dol}\")\n",
        "else:\n",
        "  euro = num * 0,16 - 2.50 #TAXA DE CAMBIO 2.50\n",
        "  print(f\"O valor em doláres fica: EUR{euro}\")\n"
      ],
      "metadata": {
        "colab": {
          "base_uri": "https://localhost:8080/"
        },
        "id": "invSxS1IEKAF",
        "outputId": "49ad4d15-62bb-4a0a-8340-ed50448b3e12"
      },
      "execution_count": null,
      "outputs": [
        {
          "output_type": "stream",
          "name": "stdout",
          "text": [
            "Bem vindo ao programa de conversão de moeda\n",
            "Para qual moeda gostaria de converter seus reais?\n",
            "1. Dólar\n",
            "2. Euro\n",
            " 1\n",
            "Agora digite o valor que gostaria de converter: R$500\n",
            "O valor em doláres fica: U$87.5\n"
          ]
        }
      ]
    },
    {
      "cell_type": "markdown",
      "source": [
        "#12º Exercicio:"
      ],
      "metadata": {
        "id": "1eazfCd8F8_I"
      }
    },
    {
      "cell_type": "code",
      "source": [
        "frase = input(\"insira uma frase para ver quantas vezes cada palavra aparece: \")\n",
        "frasediv = frase.split(\" \")\n",
        "cont_palavra = {}\n",
        "for palavra in frasediv:\n",
        "    cont_palavra[palavra] = cont_palavra.get(palavra, 0) + 1\n",
        "\n",
        "for palavra in cont_palavra:\n",
        "    print(f\"a palavra '{palavra}' aparece {cont_palavra[palavra]} vezes.\")\n"
      ],
      "metadata": {
        "id": "LHME2Mi7F_w2"
      },
      "execution_count": null,
      "outputs": []
    },
    {
      "cell_type": "markdown",
      "source": [
        "#13º Exercicio:"
      ],
      "metadata": {
        "id": "lWjSlUtXHQWV"
      }
    },
    {
      "cell_type": "code",
      "source": [
        "from random import randint\n",
        "\n",
        "n  = int(input(\"Quantos numeros aleatórios voce quer o programa gere: \"))\n",
        "li = int(input(\"A partir de qual numero: \"))\n",
        "ls = int(input(\"Até que numero: \"))\n",
        "for i in range(1, n+1):\n",
        "  numg = randint(li,ls)\n",
        "  print(numg)\n",
        "  i=i+1"
      ],
      "metadata": {
        "colab": {
          "base_uri": "https://localhost:8080/"
        },
        "id": "-qk3RVBBHTiH",
        "outputId": "b04b9431-8f54-4f8f-ae43-9c4d63ece968"
      },
      "execution_count": null,
      "outputs": [
        {
          "output_type": "stream",
          "name": "stdout",
          "text": [
            "Quantos numeros aleatórios voce quer o programa gere: 5\n",
            "A partir de qual numero: 1\n",
            "Até que numero: 70\n",
            "8\n",
            "44\n",
            "38\n",
            "42\n",
            "24\n"
          ]
        }
      ]
    },
    {
      "cell_type": "markdown",
      "source": [
        "#14º Exercicio:"
      ],
      "metadata": {
        "id": "VsMbUHs_Ib9F"
      }
    },
    {
      "cell_type": "code",
      "source": [
        "notas = []\n",
        "\n",
        "qtd = int(input(\"Quantas notas você irá lançar: \"))\n",
        "for i in range(1,qtd+1):\n",
        "  j = 1\n",
        "  nota = float(input(\"Insira a nota: \"))\n",
        "  peso = int(input(\"Insira o peso desta nota: \"))\n",
        "  while j <= peso:\n",
        "    notas.append(nota)\n",
        "    j = j+1\n",
        "mdp = sum(notas) / len(notas)\n",
        "print(f\"A média ponderada final é: {mdp}\")\n"
      ],
      "metadata": {
        "colab": {
          "base_uri": "https://localhost:8080/"
        },
        "id": "tNMJHUbNIfPf",
        "outputId": "d0f4bd23-065f-4e60-c2fd-6f2d6fc256a8"
      },
      "execution_count": null,
      "outputs": [
        {
          "output_type": "stream",
          "name": "stdout",
          "text": [
            "Quantas notas você irá lançar: 3\n",
            "Insira a nota: 8\n",
            "Insira o peso desta nota: 3\n",
            "Insira a nota: 3\n",
            "Insira o peso desta nota: 1\n",
            "Insira a nota: 5\n",
            "Insira o peso desta nota: 2\n",
            "[8.0, 8.0, 8.0, 3.0, 5.0, 5.0]\n",
            "A média ponderada final é: 6.166666666666667\n"
          ]
        }
      ]
    },
    {
      "cell_type": "markdown",
      "source": [
        "#15º Exercicio:"
      ],
      "metadata": {
        "id": "5aAgWjNjLACL"
      }
    },
    {
      "cell_type": "code",
      "source": [
        "import math\n",
        "num = int(input(\"Insira o numero para saber sua raiz quadrada: \"))\n",
        "print(math.sqrt(num))"
      ],
      "metadata": {
        "colab": {
          "base_uri": "https://localhost:8080/"
        },
        "id": "BdPCAOWDLDcb",
        "outputId": "78efc523-73ef-451b-8ee0-65a9d1b37f25"
      },
      "execution_count": null,
      "outputs": [
        {
          "output_type": "stream",
          "name": "stdout",
          "text": [
            "Insira o numero para saber sua raiz quadrada: 4\n",
            "2.0\n"
          ]
        }
      ]
    },
    {
      "cell_type": "markdown",
      "source": [
        "#16ª Exercicio:"
      ],
      "metadata": {
        "id": "siwJs3JnLhYG"
      }
    },
    {
      "cell_type": "code",
      "source": [],
      "metadata": {
        "id": "owwsyjKyLjnV"
      },
      "execution_count": null,
      "outputs": []
    }
  ]
}
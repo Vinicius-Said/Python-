{
  "nbformat": 4,
  "nbformat_minor": 0,
  "metadata": {
    "colab": {
      "provenance": [],
      "authorship_tag": "ABX9TyPVEXRhKFCBI+0NbHhvfH4Y",
      "include_colab_link": true
    },
    "kernelspec": {
      "name": "python3",
      "display_name": "Python 3"
    },
    "language_info": {
      "name": "python"
    }
  },
  "cells": [
    {
      "cell_type": "markdown",
      "metadata": {
        "id": "view-in-github",
        "colab_type": "text"
      },
      "source": [
        "<a href=\"https://colab.research.google.com/github/Vinicius-Said/Python-/blob/main/50_Exerc%C3%ADcios_Python_Vinicius_Said_Engenharia_de_Software_Noturno_ipynb_.ipynb\" target=\"_parent\"><img src=\"https://colab.research.google.com/assets/colab-badge.svg\" alt=\"Open In Colab\"/></a>"
      ]
    },
    {
      "cell_type": "markdown",
      "source": [
        "#1 º Exercicio"
      ],
      "metadata": {
        "id": "vjnBXpicmUGX"
      }
    },
    {
      "cell_type": "code",
      "source": [
        "print ('hello world')"
      ],
      "metadata": {
        "id": "UGjx6KGOmbvE",
        "colab": {
          "base_uri": "https://localhost:8080/"
        },
        "outputId": "c13b488d-b5fd-49a5-8599-f12a10e38100"
      },
      "execution_count": null,
      "outputs": [
        {
          "output_type": "stream",
          "name": "stdout",
          "text": [
            "hello world\n"
          ]
        }
      ]
    },
    {
      "cell_type": "markdown",
      "source": [
        "#2 º Exercicio"
      ],
      "metadata": {
        "id": "i75cV_jLmeCw"
      }
    },
    {
      "cell_type": "code",
      "source": [
        "num1str = input ('insira um numero para soma: ')\n",
        "num2str = input ('insira outro numero para soma: ')\n",
        "soma = int(num1str) + int(num2str)\n",
        "print (soma)"
      ],
      "metadata": {
        "colab": {
          "base_uri": "https://localhost:8080/"
        },
        "id": "IhDbuHSumf9o",
        "outputId": "df1c9b1a-199a-459f-b3ca-35cf5eb24163"
      },
      "execution_count": null,
      "outputs": [
        {
          "output_type": "stream",
          "name": "stdout",
          "text": [
            "insira um numero para soma: 5\n",
            "insira outro numero para soma: 8\n",
            "13\n"
          ]
        }
      ]
    },
    {
      "cell_type": "markdown",
      "source": [
        "#3º Exercicio"
      ],
      "metadata": {
        "id": "OQqzKnTCnfNL"
      }
    },
    {
      "cell_type": "code",
      "source": [
        "raiostr = input ('insira o raio de um circulo para calcular sua área: ')\n",
        "raio = float(raiostr)\n",
        "area = 3.14159265358979323846 * raio **2\n",
        "print(area)"
      ],
      "metadata": {
        "colab": {
          "base_uri": "https://localhost:8080/"
        },
        "id": "GSr6py88niFO",
        "outputId": "e493e9cb-f938-4750-b10c-3450b52fa2b5"
      },
      "execution_count": null,
      "outputs": [
        {
          "output_type": "stream",
          "name": "stdout",
          "text": [
            "insira o raio de um circulo para calcular sua área: 2\n",
            "12.566370614359172\n"
          ]
        }
      ]
    },
    {
      "cell_type": "markdown",
      "source": [
        "#4º Exercicio"
      ],
      "metadata": {
        "id": "4YSf0CBRpPzG"
      }
    },
    {
      "cell_type": "code",
      "source": [
        "celstr = input('insira uma temperatura em celsius para ser convertida em fahrenheit: ')\n",
        "cel = float(celstr)\n",
        "tempc = cel * 9/5 + 32\n",
        "print('temperatura em farenheit: '+ str(tempc)+'°F')"
      ],
      "metadata": {
        "colab": {
          "base_uri": "https://localhost:8080/"
        },
        "id": "woocKNkEpS4r",
        "outputId": "f0518304-f1ef-413f-c47d-b8b49e4a98e9"
      },
      "execution_count": null,
      "outputs": [
        {
          "output_type": "stream",
          "name": "stdout",
          "text": [
            "insira uma temperatura em celsius para ser convertida em fahrenheit: 30\n",
            "temperatura em farenheit: 86.0°F\n"
          ]
        }
      ]
    },
    {
      "cell_type": "markdown",
      "source": [
        "#5º Exercicio"
      ],
      "metadata": {
        "id": "U1DfUcflqHuw"
      }
    },
    {
      "cell_type": "code",
      "source": [
        "numstr = input('insira um numero para ver a tabuada dele: ')\n",
        "num = int(numstr)\n",
        "i = 1\n",
        "while i <=+10:\n",
        "  res = num*i\n",
        "  print(str(num)+ 'x' + str(i) + '=' + str(res))\n",
        "  i= i+1\n"
      ],
      "metadata": {
        "colab": {
          "base_uri": "https://localhost:8080/"
        },
        "id": "Brt0-Qx4qKqP",
        "outputId": "3988d414-ca4d-422d-8c4e-6fd1d5a2d4ba"
      },
      "execution_count": null,
      "outputs": [
        {
          "output_type": "stream",
          "name": "stdout",
          "text": [
            "insira um numero para ver a tabuada dele: 8\n",
            "8x1=8\n",
            "8x2=16\n",
            "8x3=24\n",
            "8x4=32\n",
            "8x5=40\n",
            "8x6=48\n",
            "8x7=56\n",
            "8x8=64\n",
            "8x9=72\n",
            "8x10=80\n"
          ]
        }
      ]
    },
    {
      "cell_type": "markdown",
      "source": [
        "#6º Exercicio"
      ],
      "metadata": {
        "id": "Wbnd_z-vrhik"
      }
    },
    {
      "cell_type": "code",
      "source": [
        "i = 0\n",
        "while i <=20:\n",
        "  i = i+1\n",
        "  if i % 2 == 0:\n",
        "    print(i)\n"
      ],
      "metadata": {
        "colab": {
          "base_uri": "https://localhost:8080/"
        },
        "id": "47lKMaPmrnHV",
        "outputId": "77bed0d0-7c8e-4fd7-f551-66d255b1ca57"
      },
      "execution_count": null,
      "outputs": [
        {
          "output_type": "stream",
          "name": "stdout",
          "text": [
            "2\n",
            "4\n",
            "6\n",
            "8\n",
            "10\n",
            "12\n",
            "14\n",
            "16\n",
            "18\n",
            "20\n"
          ]
        }
      ]
    },
    {
      "cell_type": "markdown",
      "source": [
        "#7º Exercicio"
      ],
      "metadata": {
        "id": "sMjTrUO-soo5"
      }
    },
    {
      "cell_type": "code",
      "source": [
        "numstr = input('insira um numero para ver se ele é par ou impar: ')\n",
        "num = int(numstr)\n",
        "if num % 2 == 0:\n",
        "  print('numero par')\n",
        "else:\n",
        "  print('numero impar')"
      ],
      "metadata": {
        "colab": {
          "base_uri": "https://localhost:8080/"
        },
        "id": "llicTv9zssMh",
        "outputId": "a643b5f9-0715-44f5-b760-4265d5578b12"
      },
      "execution_count": null,
      "outputs": [
        {
          "output_type": "stream",
          "name": "stdout",
          "text": [
            "insira um numero para ver se ele é par ou impar: 7\n",
            "numero impar\n"
          ]
        }
      ]
    },
    {
      "cell_type": "markdown",
      "source": [
        "#8º Exercicio"
      ],
      "metadata": {
        "id": "TKcxdzNvs2qL"
      }
    },
    {
      "cell_type": "code",
      "source": [
        "palavra = input('insira uma palavra para verificar se é um palindromo:')\n",
        "if palavra == palavra[::-1]:\n",
        "  print('é um palindromo')\n",
        "else:\n",
        "  print('não é um palindromo')"
      ],
      "metadata": {
        "id": "gkI6nR2Ws5hd"
      },
      "execution_count": null,
      "outputs": []
    },
    {
      "cell_type": "markdown",
      "source": [
        "#9º Exercicio"
      ],
      "metadata": {
        "id": "cJGAaY39tafN"
      }
    },
    {
      "cell_type": "code",
      "source": [
        "num = int(input ('insira um numero para calcular seu fatorial: '))\n",
        "\n",
        "fat = 1\n",
        "i= 1\n",
        "while i <= num:\n",
        "   fat = fat *i\n",
        "   i = i+1\n",
        "\n",
        "print(fat)\n"
      ],
      "metadata": {
        "colab": {
          "base_uri": "https://localhost:8080/"
        },
        "id": "CwxVKPaMtcjV",
        "outputId": "dc774649-4253-47e9-8d09-eb311f0ad44d"
      },
      "execution_count": null,
      "outputs": [
        {
          "output_type": "stream",
          "name": "stdout",
          "text": [
            "insira um numero para calcular seu fatorial: 5\n",
            "120\n"
          ]
        }
      ]
    },
    {
      "cell_type": "markdown",
      "source": [
        "#10º Exercicio"
      ],
      "metadata": {
        "id": "c0aDzDNgyXUF"
      }
    },
    {
      "cell_type": "code",
      "source": [
        "\n",
        "fibo = [0,1]\n",
        "num = 1\n",
        "while i <8:\n",
        "  seq = fibo[-1] + fibo[-2]\n",
        "  fibo.append(seq)\n",
        "  i=i+1\n",
        "print(fibo)\n"
      ],
      "metadata": {
        "colab": {
          "base_uri": "https://localhost:8080/"
        },
        "id": "DUm1SdUaycIY",
        "outputId": "d365e4b6-e686-4323-b952-64ec42e29ac2"
      },
      "execution_count": null,
      "outputs": [
        {
          "output_type": "stream",
          "name": "stdout",
          "text": [
            "[0, 1, 1, 2, 3, 5, 8, 13, 21]\n"
          ]
        }
      ]
    },
    {
      "cell_type": "markdown",
      "source": [
        "#11º Exercicio"
      ],
      "metadata": {
        "id": "N2kA4VQBT_Jz"
      }
    },
    {
      "cell_type": "code",
      "source": [
        "lista = [3,1,6,3,7,4,20]\n",
        "print(min(lista))\n",
        "print(max(lista))\n"
      ],
      "metadata": {
        "colab": {
          "base_uri": "https://localhost:8080/"
        },
        "id": "KavrHM2JUCSp",
        "outputId": "6b5e0746-0b7e-43b9-f508-fc5da3850334"
      },
      "execution_count": null,
      "outputs": [
        {
          "output_type": "stream",
          "name": "stdout",
          "text": [
            "1\n",
            "20\n",
            "[1, 3, 3, 4, 6, 7, 20]\n"
          ]
        }
      ]
    },
    {
      "cell_type": "markdown",
      "source": [
        "#12º Exercicio"
      ],
      "metadata": {
        "id": "uzrE7gAGTYvc"
      }
    },
    {
      "cell_type": "code",
      "source": [
        "stra = input(\"insira uma palavra para ver quantas vezes as letras se repetem nela: \")\n",
        "\n",
        "cont_letras = {}\n",
        "\n",
        "for letra in stra:\n",
        "    cont_letras[letra] = cont_letras.get(letra, 0) + 1\n",
        "\n",
        "for letra in cont_letras:\n",
        "    print(f\"a letra '{letra}' aparece {cont_letras[letra]} vezes.\")\n",
        "\n",
        "\n"
      ],
      "metadata": {
        "colab": {
          "base_uri": "https://localhost:8080/"
        },
        "id": "ntB-paAlU8rR",
        "outputId": "d286b33b-ac0a-4e97-86db-fd71b1880c55"
      },
      "execution_count": null,
      "outputs": [
        {
          "output_type": "stream",
          "name": "stdout",
          "text": [
            "insira uma palavra para ver quantas vezes as letras se repetem nela: arara\n",
            "A letra 'a' aparece 3 vezes.\n",
            "A letra 'r' aparece 2 vezes.\n"
          ]
        }
      ]
    },
    {
      "cell_type": "markdown",
      "source": [
        "#13º Exercicio"
      ],
      "metadata": {
        "id": "0yrLw4MsmLNw"
      }
    },
    {
      "cell_type": "code",
      "source": [
        "listanum = [1,27,2,8,1,2,3]\n",
        "listaord = sorted(listanum)\n",
        "print(listaord)"
      ],
      "metadata": {
        "colab": {
          "base_uri": "https://localhost:8080/"
        },
        "id": "WQmDWqW0mNuD",
        "outputId": "2bbffdf9-0a6e-42ba-c997-a46d6da08ed7"
      },
      "execution_count": null,
      "outputs": [
        {
          "output_type": "stream",
          "name": "stdout",
          "text": [
            "[1, 1, 2, 2, 3, 8, 27]\n"
          ]
        }
      ]
    },
    {
      "cell_type": "markdown",
      "source": [
        "#14º Exercicio"
      ],
      "metadata": {
        "id": "DK_OHXdGmf3q"
      }
    },
    {
      "cell_type": "code",
      "source": [
        "listanum = [1, 27, 2, 8, 1, 2, 3]\n",
        "som = 0\n",
        "\n",
        "for num in listanum:\n",
        "    som = num + som\n",
        "\n",
        "print(f\"a soma de todos os valores da lista é: {som} \")\n"
      ],
      "metadata": {
        "colab": {
          "base_uri": "https://localhost:8080/"
        },
        "id": "D9sRY2mOmho9",
        "outputId": "f1e3970e-ddc9-4e14-bdc3-d721f8dafdc8"
      },
      "execution_count": null,
      "outputs": [
        {
          "output_type": "stream",
          "name": "stdout",
          "text": [
            "1\n",
            "28\n",
            "30\n",
            "38\n",
            "39\n",
            "41\n",
            "44\n",
            "A soma de todos os valores da lista é: 44 \n"
          ]
        }
      ]
    },
    {
      "cell_type": "markdown",
      "source": [
        "#15º Exercicio"
      ],
      "metadata": {
        "id": "NbmLEjrXprAc"
      }
    },
    {
      "cell_type": "code",
      "source": [
        "listanum = [1,3,4,1,6]\n",
        "som = 0\n",
        "\n",
        "for num in listanum:\n",
        "    som = num + som\n",
        "\n",
        "med = som / len(listanum)\n",
        "print(f\"a média da lista é: {med} \")"
      ],
      "metadata": {
        "colab": {
          "base_uri": "https://localhost:8080/"
        },
        "id": "pyTRUk6wpv-E",
        "outputId": "a1f70211-4b31-445a-e419-2929ef944288"
      },
      "execution_count": null,
      "outputs": [
        {
          "output_type": "stream",
          "name": "stdout",
          "text": [
            "a média da lista é: 3.0 \n"
          ]
        }
      ]
    },
    {
      "cell_type": "markdown",
      "source": [
        "#16º Exercicio"
      ],
      "metadata": {
        "id": "wG4cpL4AqcZ9"
      }
    },
    {
      "cell_type": "code",
      "source": [
        "palavra = input(\"insira uma palavra para ver ela invertida: \")\n",
        "palavrainv = palavra[::-1]\n",
        "print(palavrainv)"
      ],
      "metadata": {
        "colab": {
          "base_uri": "https://localhost:8080/"
        },
        "id": "cKlVjzwZqggn",
        "outputId": "66e9accd-8b00-4bb2-fbd7-52609f3b2ac0"
      },
      "execution_count": null,
      "outputs": [
        {
          "output_type": "stream",
          "name": "stdout",
          "text": [
            "insira uma palavra para ver ela invertida: arara\n",
            "arara\n"
          ]
        }
      ]
    },
    {
      "cell_type": "markdown",
      "source": [
        "#17ºExercicio"
      ],
      "metadata": {
        "id": "-bg0i4JBqzCh"
      }
    },
    {
      "cell_type": "code",
      "source": [
        "frase = input(\"insira uma frase para ver quantas vezes cada palavra aparece: \")\n",
        "frasediv = frase.split(\" \")\n",
        "cont_palavra = {}\n",
        "for palavra in frasediv:\n",
        "    cont_palavra[palavra] = cont_palavra.get(palavra, 0) + 1\n",
        "\n",
        "for palavra in cont_palavra:\n",
        "    print(f\"a palavra '{palavra}' aparece {cont_palavra[palavra]} vezes.\")\n"
      ],
      "metadata": {
        "colab": {
          "base_uri": "https://localhost:8080/"
        },
        "id": "eqEnXuYkq5Fe",
        "outputId": "1839753a-64fe-4dfa-df4a-985906073688"
      },
      "execution_count": null,
      "outputs": [
        {
          "output_type": "stream",
          "name": "stdout",
          "text": [
            "insira uma frase para ver quantas vezes cada palavra aparece: o juliano é um gay bem gay mesmo papo de juliano\n",
            "a palavra 'o' aparece 1 vezes.\n",
            "a palavra 'juliano' aparece 2 vezes.\n",
            "a palavra 'é' aparece 1 vezes.\n",
            "a palavra 'um' aparece 1 vezes.\n",
            "a palavra 'gay' aparece 2 vezes.\n",
            "a palavra 'bem' aparece 1 vezes.\n",
            "a palavra 'mesmo' aparece 1 vezes.\n",
            "a palavra 'papo' aparece 1 vezes.\n",
            "a palavra 'de' aparece 1 vezes.\n"
          ]
        }
      ]
    },
    {
      "cell_type": "markdown",
      "source": [
        "#18°Exercicio"
      ],
      "metadata": {
        "id": "ky5tc27fvHUV"
      }
    },
    {
      "cell_type": "code",
      "source": [
        "num = int(input(\"Insira um numero para saber se ele é primo: \"))\n",
        "div = []\n",
        "\n",
        "for numtp in range(1,num+1):\n",
        "\n",
        "  if num % numtp == 0:\n",
        "    div.append(numtp)\n",
        "\n",
        "if len(div) == 2:\n",
        "  print(\"O numero é primo.\")\n",
        "else:\n",
        "  print(\"O numero que você digitou é primo.\")\n",
        "  print(f\"Divisores: {div}\")\n"
      ],
      "metadata": {
        "id": "fYQnBogdvM4B"
      },
      "execution_count": null,
      "outputs": []
    },
    {
      "cell_type": "markdown",
      "source": [
        "#19ºExercicio"
      ],
      "metadata": {
        "id": "3E3yB21Owvcw"
      }
    },
    {
      "cell_type": "code",
      "source": [
        "from random import randint\n",
        "numg = randint(0,50)\n",
        "num_usuario = input(\"tente advinhar qual foi o número gerado pelo sistema: \")\n",
        "if num_usuario == numg:\n",
        "  print(\"Parabéns!! Você acertou o número gerado.\")\n",
        "else:\n",
        "  print(f\"Você errou amigão, o número certo era: {numg}\")\n",
        "\n",
        "\n"
      ],
      "metadata": {
        "colab": {
          "base_uri": "https://localhost:8080/"
        },
        "id": "PRUNyTm5wzTX",
        "outputId": "5e010a2f-fc0a-40f1-900b-263e443cd549"
      },
      "execution_count": null,
      "outputs": [
        {
          "output_type": "stream",
          "name": "stdout",
          "text": [
            "tente advinhar qual foi o número gerado pelo sistema: 14\n",
            "Você errou amigão, o número certo era: 30\n"
          ]
        }
      ]
    },
    {
      "cell_type": "markdown",
      "source": [
        "#20ºExercicio"
      ],
      "metadata": {
        "id": "bEcvXgjuyCb5"
      }
    },
    {
      "cell_type": "code",
      "source": [
        "lista1 = [1,2,3]\n",
        "lista2 = [4,5,6]\n",
        "lista3 = [7,8,9]\n",
        "matriz = [lista1,lista2,lista3]\n",
        "matrizinv = [lista1[::-1],lista2[::-1],lista3[::-1]]\n",
        "matrizinv2 = matrizinv[::-1]\n",
        "print(matrizinv2)"
      ],
      "metadata": {
        "colab": {
          "base_uri": "https://localhost:8080/"
        },
        "id": "CPIx_INEyGhw",
        "outputId": "70114bf6-1fbe-4439-8962-2978a2490652"
      },
      "execution_count": null,
      "outputs": [
        {
          "output_type": "stream",
          "name": "stdout",
          "text": [
            "[[9, 8, 7], [6, 5, 4], [3, 2, 1]]\n"
          ]
        }
      ]
    },
    {
      "cell_type": "markdown",
      "source": [
        "#21ºExercicio"
      ],
      "metadata": {
        "id": "BIxyVMoKzm_N"
      }
    },
    {
      "cell_type": "code",
      "source": [
        "lista = [1, 3, 5, 7, 9]\n",
        "esq, dir = 0, len(lista) - 1\n",
        "elemento = int(input(\"insira o numero a ser buscado \"))\n",
        "encontrado = False\n",
        "while esq <= dir:\n",
        "    meio = (esq + dir) // 2\n",
        "    if lista[meio] == elemento:\n",
        "        encontrado = True\n",
        "        break\n",
        "    elif lista[meio] < elemento:\n",
        "        esq = meio + 1\n",
        "    else:\n",
        "        dir = meio - 1\n",
        "if encontrado:\n",
        "    print(\"elemento encontrado\")\n",
        "else:\n",
        "    print(\"elemento nao encontrado\")\n"
      ],
      "metadata": {
        "id": "h-XdQH1rzplj"
      },
      "execution_count": null,
      "outputs": []
    },
    {
      "cell_type": "markdown",
      "source": [
        "#22ºExercicio"
      ],
      "metadata": {
        "id": "RZ49cJIA1TEG"
      }
    },
    {
      "cell_type": "code",
      "source": [
        "str = input(\"insira uma palavra \")\n",
        "deslocamento = 3\n",
        "cripto = ''\n",
        "for c in str:\n",
        "    cripto += chr((ord(c) + deslocamento - 97) % 26 + 97)\n",
        "print(\"criptografia:\", cripto)\n"
      ],
      "metadata": {
        "id": "rB6_GwB51bi3"
      },
      "execution_count": null,
      "outputs": []
    },
    {
      "cell_type": "markdown",
      "source": [
        "#23ºExercicio"
      ],
      "metadata": {
        "id": "Vsh2UjgH1yVh"
      }
    },
    {
      "cell_type": "code",
      "source": [
        "str = input(\"insira a palavra criptografada \")\n",
        "deslocamento = 3\n",
        "decripto = ''\n",
        "for c in str:\n",
        "    decripto += chr((ord(c) - deslocamento - 97) % 26 + 97)\n",
        "print(\"descriptografia:\", decripto)"
      ],
      "metadata": {
        "id": "xgQt2CSZ11i8"
      },
      "execution_count": null,
      "outputs": []
    },
    {
      "cell_type": "markdown",
      "source": [
        "#24ºExercicio"
      ],
      "metadata": {
        "id": "s0wFE0q0112L"
      }
    },
    {
      "cell_type": "code",
      "source": [
        "cpf = input(\"insira o cpf (somente numeros) \")\n",
        "cpf_valido = True\n",
        "if len(cpf) != 11 or not cpf.isdigit():\n",
        "    cpf_valido = False\n",
        "else:\n",
        "    for i in range(9, 11):\n",
        "        validador = sum(int(cpf[num]) * ((i+1) - num) for num in range(0, i))\n",
        "        digito = ((validador * 10) % 11) % 10\n",
        "        if int(cpf[i]) != digito:\n",
        "            cpf_valido = False\n",
        "            break\n",
        "if cpf_valido:\n",
        "    print(\"cpf valido\")\n",
        "else:\n",
        "    print(\"cpf invalido\")"
      ],
      "metadata": {
        "id": "wMLnYQjA2Tpq"
      },
      "execution_count": null,
      "outputs": []
    },
    {
      "cell_type": "markdown",
      "source": [
        "#25ºExercicio"
      ],
      "metadata": {
        "id": "f6MF51g-2R59"
      }
    },
    {
      "cell_type": "code",
      "source": [
        "lista = []\n",
        "for i in range(5):\n",
        "    num = int(input(f\"insira o numero {i+1} \"))\n",
        "    lista.append(num)\n",
        "positivos = [n for n in lista if n > 0]\n",
        "negativos = [n for n in lista if n < 0]\n",
        "zeros = [n for n in lista if n == 0]\n",
        "print(\"positivos:\", positivos)\n",
        "print(\"negativos:\", negativos)\n",
        "print(\"zeros:\", zeros)"
      ],
      "metadata": {
        "id": "zYXofY9t2WMk"
      },
      "execution_count": null,
      "outputs": []
    },
    {
      "cell_type": "markdown",
      "source": [
        "#26ºExercicio"
      ],
      "metadata": {
        "id": "mjYuGDi32Wcl"
      }
    },
    {
      "cell_type": "code",
      "source": [
        "def calculadora(num1, num2, operacao):\n",
        "    if operacao == 'soma':\n",
        "      res = num1 + num2\n",
        "    elif operacao == 'subtração':\n",
        "      res = num1 - num2\n",
        "    elif operacao == 'multiplicação':\n",
        "      res = num1 * num2\n",
        "    elif operacao == 'divisão':\n",
        "      res = num1 / num2\n",
        "    return res\n",
        "\n",
        "print = (\"Bem vindo a calculadora: /n\")\n",
        "num1 = int(input(\"Insira o primeiro número que vai utilizar na calculdora: \"))\n",
        "num2 = int(input(\"Insira o segundo número que vai utilizar na calculdora: \"))\n",
        "operacao = input(\"Insira a operação que quer realizar: \")\n",
        "\n",
        "calculadora(num1,num2,operacao)\n",
        "\n",
        "\n",
        "\n"
      ],
      "metadata": {
        "colab": {
          "base_uri": "https://localhost:8080/"
        },
        "id": "N5qnVfZU31hb",
        "outputId": "3b82c8ea-f3b8-4ea5-b672-c5d6a411a91e"
      },
      "execution_count": null,
      "outputs": [
        {
          "name": "stdout",
          "output_type": "stream",
          "text": [
            "Insira o primeiro número que vai utilizar na calculdora: 5\n",
            "Insira o segundo número que vai utilizar na calculdora: 5\n",
            "Insira a operação que quer realizar: multiplicação\n"
          ]
        },
        {
          "output_type": "execute_result",
          "data": {
            "text/plain": [
              "25"
            ]
          },
          "metadata": {},
          "execution_count": 42
        }
      ]
    },
    {
      "cell_type": "markdown",
      "source": [
        "#27ºExercicio"
      ],
      "metadata": {
        "id": "erHn1lbm76mm"
      }
    },
    {
      "cell_type": "code",
      "source": [
        "p1 = input(\"insira a primeira palavra \")\n",
        "p2 = input(\"insira a segunda palavra \")\n",
        "if sorted(p1) == sorted(p2):\n",
        "    print(\"sao anagramas\")\n",
        "else:\n",
        "    print(\"nao sao anagramas\")"
      ],
      "metadata": {
        "id": "rPyea9p57-O3"
      },
      "execution_count": null,
      "outputs": []
    },
    {
      "cell_type": "markdown",
      "source": [
        "#28º Exercicio:"
      ],
      "metadata": {
        "id": "fPnQFvlVnjO8"
      }
    },
    {
      "cell_type": "code",
      "source": [
        "import matplotlib.pyplot as plt\n",
        "dados = [int(input(f\"insira o valor {i+1} \")) for i in range(5)]\n",
        "plt.bar(range(1, 6), dados)\n",
        "plt.show()"
      ],
      "metadata": {
        "id": "Bk_ByCsrnnjo"
      },
      "execution_count": null,
      "outputs": []
    },
    {
      "cell_type": "markdown",
      "source": [
        "#29º Exercicio:"
      ],
      "metadata": {
        "id": "D3Fjh1Iin0Qm"
      }
    },
    {
      "cell_type": "code",
      "source": [
        "for i in range(1, 101):\n",
        "    if i % 3 == 0 and i % 5 == 0:\n",
        "        print(\"fizzbuzz\")\n",
        "    elif i % 3 == 0:\n",
        "        print(\"fizz\")\n",
        "    elif i % 5 == 0:\n",
        "        print(\"buzz\")\n",
        "    else:\n",
        "        print(i)\n"
      ],
      "metadata": {
        "id": "LUUKQLTdn33M"
      },
      "execution_count": null,
      "outputs": []
    },
    {
      "cell_type": "markdown",
      "source": [
        "#30º Exercicio:"
      ],
      "metadata": {
        "id": "fyTuBp6Kn9L0"
      }
    },
    {
      "cell_type": "code",
      "source": [
        "palavra = input(\"insira a palavra secreta \").lower()\n",
        "escondida = ['_'] * len(palavra)\n",
        "tentativas = 6\n",
        "letras_erradas = []\n",
        "while tentativas > 0:\n",
        "    print(\" \".join(escondida))\n",
        "    letra = input(\"insira uma letra \").lower()\n",
        "    if letra in palavra:\n",
        "        for i in range(len(palavra)):\n",
        "            if palavra[i] == letra:\n",
        "                escondida[i] = letra\n",
        "        if '_' not in escondida:\n",
        "            print(\"voce ganhou\")\n",
        "            break\n",
        "    else:\n",
        "        tentativas -= 1\n",
        "        letras_erradas.append(letra)\n",
        "        print(f\"letras erradas: {', '.join(letras_erradas)}\")\n",
        "    if tentativas == 0:\n",
        "        print(\"voce perdeu\")\n",
        "        print(f\"a palavra era {palavra}\")\n"
      ],
      "metadata": {
        "id": "LEUpTaimoAIM"
      },
      "execution_count": null,
      "outputs": []
    },
    {
      "cell_type": "markdown",
      "source": [
        "#31º Exercicio:"
      ],
      "metadata": {
        "id": "MzEiwKABoDq-"
      }
    },
    {
      "cell_type": "code",
      "source": [
        "lista = []\n",
        "for i in range(5):\n",
        "    num = int(input(f\"insira o numero {i+1} \"))\n",
        "    lista.append(num)\n",
        "\n",
        "    n = len(lista)\n",
        "for i in range(n):\n",
        "    for j in range(0, n-i-1):\n",
        "        if lista[j] > lista[j+1]:\n",
        "            lista[j], lista[j+1] = lista[j+1], lista[j]\n",
        "print(\"lista ordenada:\", lista)\n"
      ],
      "metadata": {
        "id": "KFSQnG9HoH6X"
      },
      "execution_count": null,
      "outputs": []
    },
    {
      "cell_type": "markdown",
      "source": [
        "#32º Exercicio:"
      ],
      "metadata": {
        "id": "Vb62hvHToVJH"
      }
    },
    {
      "cell_type": "code",
      "source": [
        "tabuleiro = [' '] * 9\n",
        "jogador = 'X'\n",
        "\n",
        "def mostrar_tabuleiro():\n",
        "    print(f\"{tabuleiro[0]} | {tabuleiro[1]} | {tabuleiro[2]}\")\n",
        "    print(\"--+---+--\")\n",
        "    print(f\"{tabuleiro[3]} | {tabuleiro[4]} | {tabuleiro[5]}\")\n",
        "    print(\"--+---+--\")\n",
        "    print(f\"{tabuleiro[6]} | {tabuleiro[7]} | {tabuleiro[8]}\")\n",
        "\n",
        "def checar_vitoria():\n",
        "    v = [(0,1,2), (3,4,5), (6,7,8), (0,3,6), (1,4,7), (2,5,8), (0,4,8), (2,4,6)]\n",
        "    for a,b,c in v:\n",
        "        if tabuleiro[a] == tabuleiro[b] == tabuleiro[c] != ' ':\n",
        "            return True\n",
        "    return False\n",
        "\n",
        "while True:\n",
        "    mostrar_tabuleiro()\n",
        "    jogada = int(input(f\"jogador {jogador} escolha uma posicao de 1 a 9 \")) - 1\n",
        "    if tabuleiro[jogada] == ' ':\n",
        "        tabuleiro[jogada] = jogador\n",
        "        if checar_vitoria():\n",
        "            mostrar_tabuleiro()\n",
        "            print(f\"jogador {jogador} venceu\")\n",
        "            break\n",
        "        jogador = 'O' if jogador == 'X' else 'X'\n",
        "    else:\n",
        "        print(\"posicao ocupada\")\n",
        "    if ' ' not in tabuleiro:\n",
        "        mostrar_tabuleiro()\n",
        "        print(\"empate\")\n",
        "        break\n"
      ],
      "metadata": {
        "id": "yTCPYQxmoYLG"
      },
      "execution_count": null,
      "outputs": []
    },
    {
      "cell_type": "markdown",
      "source": [
        "#33º Exericio:"
      ],
      "metadata": {
        "id": "Jbx7B7vPovnc"
      }
    },
    {
      "cell_type": "code",
      "source": [
        "p1 = input(\"insira a primeira palavra \")\n",
        "p2 = input(\"insira a segunda palavra \")\n",
        "if sorted(p1) == sorted(p2):\n",
        "    print(\"sao anagramas\")\n",
        "else:\n",
        "    print(\"nao sao anagramas\")"
      ],
      "metadata": {
        "id": "fEHYM60noyVV"
      },
      "execution_count": null,
      "outputs": []
    },
    {
      "cell_type": "markdown",
      "source": [
        "#34º Exercicio:"
      ],
      "metadata": {
        "id": "Lk2zJ7BOo1UB"
      }
    },
    {
      "cell_type": "code",
      "source": [
        "str = input(\"insira uma palavra \")\n",
        "vogais = 'aeiou'\n",
        "cont = 0\n",
        "for c in str:\n",
        "    if c in vogais:\n",
        "        cont += 1\n",
        "print(\"numero de vogais:\", cont)"
      ],
      "metadata": {
        "id": "T_lY0Mxko3nZ"
      },
      "execution_count": null,
      "outputs": []
    },
    {
      "cell_type": "markdown",
      "source": [
        "#35º Exercicio:"
      ],
      "metadata": {
        "id": "vmHxi8HZpBS6"
      }
    },
    {
      "cell_type": "code",
      "source": [
        "n = int(input(\"insira um numero \"))\n",
        "a, b = 0, 1\n",
        "while a <= n:\n",
        "    print(a)\n",
        "    a, b = b, a + b\n"
      ],
      "metadata": {
        "id": "h9rGPEywpD_Q"
      },
      "execution_count": null,
      "outputs": []
    },
    {
      "cell_type": "markdown",
      "source": [
        "# 36º Exercicio:"
      ],
      "metadata": {
        "id": "SqNpvjOPpF82"
      }
    },
    {
      "cell_type": "code",
      "source": [
        "from random import choice\n",
        "caracteres = 'abcdefghijklmnopqrstuvwxyzABCDEFGHIJKLMNOPQRSTUVWXYZ1234567890'\n",
        "senha = ''\n",
        "for _ in range(8):\n",
        "    senha += choice(caracteres)\n",
        "print(\"senha gerada:\", senha)"
      ],
      "metadata": {
        "id": "uac2VdfvpJOu"
      },
      "execution_count": null,
      "outputs": []
    },
    {
      "cell_type": "markdown",
      "source": [
        "#37º Exercicio:"
      ],
      "metadata": {
        "id": "6A2EVs0FpLv2"
      }
    },
    {
      "cell_type": "code",
      "source": [
        "def fatorial(n):\n",
        "    if n == 0:\n",
        "        return 1\n",
        "    return n * fatorial(n-1)\n",
        "\n",
        "n = int(input(\"insira um numero \"))\n",
        "print(\"o fatorial é\", fatorial(n))"
      ],
      "metadata": {
        "id": "w5_C0x-ApO3O"
      },
      "execution_count": null,
      "outputs": []
    },
    {
      "cell_type": "markdown",
      "source": [
        "#38º Exercicio:"
      ],
      "metadata": {
        "id": "aWxbiR-wpRZb"
      }
    },
    {
      "cell_type": "code",
      "source": [
        "texto = input(\"insira um texto \")\n",
        "texto = texto.split()\n",
        "contagem = len(texto)\n",
        "print(\"numero de palavras:\", contagem)"
      ],
      "metadata": {
        "id": "7VeoGMzXpUIo"
      },
      "execution_count": null,
      "outputs": []
    },
    {
      "cell_type": "markdown",
      "source": [
        "#39º Exercicio:"
      ],
      "metadata": {
        "id": "SPMzuf8gpWwi"
      }
    },
    {
      "cell_type": "code",
      "source": [
        "from random import randint\n",
        "dado1 = randint(1, 6)\n",
        "dado2 = randint(1, 6)\n",
        "print(\"resultado do dado 1:\", dado1)\n",
        "print(\"resultado do dado 2:\", dado2)\n",
        "print(\"soma dos dados:\", dado1 + dado2)"
      ],
      "metadata": {
        "id": "O2TvTrEWpZi2"
      },
      "execution_count": null,
      "outputs": []
    },
    {
      "cell_type": "markdown",
      "source": [
        "#40º Exercicio:"
      ],
      "metadata": {
        "id": "PcmB_LJ0pdGf"
      }
    },
    {
      "cell_type": "code",
      "source": [
        "compras = []\n",
        "while True:\n",
        "    opcao = input(\"escolha uma opcao: adicionar remover listar ou sair \").lower()\n",
        "    if opcao == 'adicionar':\n",
        "        item = input(\"insira o item \")\n",
        "        compras.append(item)\n",
        "    elif opcao == 'remover':\n",
        "        item = input(\"insira o item \")\n",
        "        if item in compras:\n",
        "            compras.remove(item)\n",
        "        else:\n",
        "            print(\"item nao encontrado\")\n",
        "    elif opcao == 'listar':\n",
        "        print(\"lista de compras:\", compras)\n",
        "    elif opcao == 'sair':\n",
        "        break\n",
        "    else:\n",
        "        print(\"opcao invalida\")"
      ],
      "metadata": {
        "id": "GOmqkAAypfcP"
      },
      "execution_count": null,
      "outputs": []
    },
    {
      "cell_type": "markdown",
      "source": [
        "#41º Exercicio:"
      ],
      "metadata": {
        "id": "bW6o1s9RpiNv"
      }
    },
    {
      "cell_type": "code",
      "source": [
        "lista = []\n",
        "for i in range(5):\n",
        "    num = int(input(f\"insira o numero {i+1} \"))\n",
        "    lista.append(num)\n",
        "lista = list(set(lista))\n",
        "print(\"lista sem duplicatas:\", lista)"
      ],
      "metadata": {
        "colab": {
          "base_uri": "https://localhost:8080/",
          "height": 356
        },
        "id": "J74p7iWSplF9",
        "outputId": "e566b689-d501-4c4c-8756-1e6d675eee6c"
      },
      "execution_count": null,
      "outputs": [
        {
          "output_type": "error",
          "ename": "KeyboardInterrupt",
          "evalue": "Interrupted by user",
          "traceback": [
            "\u001b[0;31m---------------------------------------------------------------------------\u001b[0m",
            "\u001b[0;31mKeyboardInterrupt\u001b[0m                         Traceback (most recent call last)",
            "\u001b[0;32m<ipython-input-2-c7cf2fc74095>\u001b[0m in \u001b[0;36m<cell line: 2>\u001b[0;34m()\u001b[0m\n\u001b[1;32m      1\u001b[0m \u001b[0mlista\u001b[0m \u001b[0;34m=\u001b[0m \u001b[0;34m[\u001b[0m\u001b[0;34m]\u001b[0m\u001b[0;34m\u001b[0m\u001b[0;34m\u001b[0m\u001b[0m\n\u001b[1;32m      2\u001b[0m \u001b[0;32mfor\u001b[0m \u001b[0mi\u001b[0m \u001b[0;32min\u001b[0m \u001b[0mrange\u001b[0m\u001b[0;34m(\u001b[0m\u001b[0;36m5\u001b[0m\u001b[0;34m)\u001b[0m\u001b[0;34m:\u001b[0m\u001b[0;34m\u001b[0m\u001b[0;34m\u001b[0m\u001b[0m\n\u001b[0;32m----> 3\u001b[0;31m     \u001b[0mnum\u001b[0m \u001b[0;34m=\u001b[0m \u001b[0mint\u001b[0m\u001b[0;34m(\u001b[0m\u001b[0minput\u001b[0m\u001b[0;34m(\u001b[0m\u001b[0;34mf\"insira o numero {i+1} \"\u001b[0m\u001b[0;34m)\u001b[0m\u001b[0;34m)\u001b[0m\u001b[0;34m\u001b[0m\u001b[0;34m\u001b[0m\u001b[0m\n\u001b[0m\u001b[1;32m      4\u001b[0m     \u001b[0mlista\u001b[0m\u001b[0;34m.\u001b[0m\u001b[0mappend\u001b[0m\u001b[0;34m(\u001b[0m\u001b[0mnum\u001b[0m\u001b[0;34m)\u001b[0m\u001b[0;34m\u001b[0m\u001b[0;34m\u001b[0m\u001b[0m\n\u001b[1;32m      5\u001b[0m \u001b[0mlista\u001b[0m \u001b[0;34m=\u001b[0m \u001b[0mlist\u001b[0m\u001b[0;34m(\u001b[0m\u001b[0mset\u001b[0m\u001b[0;34m(\u001b[0m\u001b[0mlista\u001b[0m\u001b[0;34m)\u001b[0m\u001b[0;34m)\u001b[0m\u001b[0;34m\u001b[0m\u001b[0;34m\u001b[0m\u001b[0m\n",
            "\u001b[0;32m/usr/local/lib/python3.10/dist-packages/ipykernel/kernelbase.py\u001b[0m in \u001b[0;36mraw_input\u001b[0;34m(self, prompt)\u001b[0m\n\u001b[1;32m    849\u001b[0m                 \u001b[0;34m\"raw_input was called, but this frontend does not support input requests.\"\u001b[0m\u001b[0;34m\u001b[0m\u001b[0;34m\u001b[0m\u001b[0m\n\u001b[1;32m    850\u001b[0m             )\n\u001b[0;32m--> 851\u001b[0;31m         return self._input_request(str(prompt),\n\u001b[0m\u001b[1;32m    852\u001b[0m             \u001b[0mself\u001b[0m\u001b[0;34m.\u001b[0m\u001b[0m_parent_ident\u001b[0m\u001b[0;34m,\u001b[0m\u001b[0;34m\u001b[0m\u001b[0;34m\u001b[0m\u001b[0m\n\u001b[1;32m    853\u001b[0m             \u001b[0mself\u001b[0m\u001b[0;34m.\u001b[0m\u001b[0m_parent_header\u001b[0m\u001b[0;34m,\u001b[0m\u001b[0;34m\u001b[0m\u001b[0;34m\u001b[0m\u001b[0m\n",
            "\u001b[0;32m/usr/local/lib/python3.10/dist-packages/ipykernel/kernelbase.py\u001b[0m in \u001b[0;36m_input_request\u001b[0;34m(self, prompt, ident, parent, password)\u001b[0m\n\u001b[1;32m    893\u001b[0m             \u001b[0;32mexcept\u001b[0m \u001b[0mKeyboardInterrupt\u001b[0m\u001b[0;34m:\u001b[0m\u001b[0;34m\u001b[0m\u001b[0;34m\u001b[0m\u001b[0m\n\u001b[1;32m    894\u001b[0m                 \u001b[0;31m# re-raise KeyboardInterrupt, to truncate traceback\u001b[0m\u001b[0;34m\u001b[0m\u001b[0;34m\u001b[0m\u001b[0m\n\u001b[0;32m--> 895\u001b[0;31m                 \u001b[0;32mraise\u001b[0m \u001b[0mKeyboardInterrupt\u001b[0m\u001b[0;34m(\u001b[0m\u001b[0;34m\"Interrupted by user\"\u001b[0m\u001b[0;34m)\u001b[0m \u001b[0;32mfrom\u001b[0m \u001b[0;32mNone\u001b[0m\u001b[0;34m\u001b[0m\u001b[0;34m\u001b[0m\u001b[0m\n\u001b[0m\u001b[1;32m    896\u001b[0m             \u001b[0;32mexcept\u001b[0m \u001b[0mException\u001b[0m \u001b[0;32mas\u001b[0m \u001b[0me\u001b[0m\u001b[0;34m:\u001b[0m\u001b[0;34m\u001b[0m\u001b[0;34m\u001b[0m\u001b[0m\n\u001b[1;32m    897\u001b[0m                 \u001b[0mself\u001b[0m\u001b[0;34m.\u001b[0m\u001b[0mlog\u001b[0m\u001b[0;34m.\u001b[0m\u001b[0mwarning\u001b[0m\u001b[0;34m(\u001b[0m\u001b[0;34m\"Invalid Message:\"\u001b[0m\u001b[0;34m,\u001b[0m \u001b[0mexc_info\u001b[0m\u001b[0;34m=\u001b[0m\u001b[0;32mTrue\u001b[0m\u001b[0;34m)\u001b[0m\u001b[0;34m\u001b[0m\u001b[0;34m\u001b[0m\u001b[0m\n",
            "\u001b[0;31mKeyboardInterrupt\u001b[0m: Interrupted by user"
          ]
        }
      ]
    },
    {
      "cell_type": "markdown",
      "source": [
        "#42º Exercicio:"
      ],
      "metadata": {
        "id": "0ApIFKdkpp4l"
      }
    },
    {
      "cell_type": "code",
      "source": [
        "n = int(input(\"insira um numero \"))\n",
        "for num in range(2, n + 1):\n",
        "    primo = True\n",
        "    for i in range(2, int(num ** 0.5) + 1):\n",
        "        if num % i == 0:\n",
        "            primo = False\n",
        "            break\n",
        "    if primo:\n",
        "        print(num)"
      ],
      "metadata": {
        "id": "uyRHUaRPps8l"
      },
      "execution_count": null,
      "outputs": []
    },
    {
      "cell_type": "markdown",
      "source": [
        "#43º Exercicio:"
      ],
      "metadata": {
        "id": "O9jbYh24pwhr"
      }
    },
    {
      "cell_type": "code",
      "source": [
        "metros = float(input(\"insira o valor em metros \"))\n",
        "centimetros = metros * 100\n",
        "print(\"valor em centimetros:\", centimetros)"
      ],
      "metadata": {
        "id": "QXrlee6HpzAN"
      },
      "execution_count": null,
      "outputs": []
    },
    {
      "cell_type": "markdown",
      "source": [
        "#44º Exercicio:"
      ],
      "metadata": {
        "id": "LPukjU2_p1O9"
      }
    },
    {
      "cell_type": "code",
      "source": [
        "n = int(input(\"insira o numero de termos \"))\n",
        "a, b = 0, 1\n",
        "for _ in range(n):\n",
        "    print(a)\n",
        "    a, b = b, a + b"
      ],
      "metadata": {
        "id": "O7A1CRO8p301"
      },
      "execution_count": null,
      "outputs": []
    },
    {
      "cell_type": "markdown",
      "source": [
        "#45º Exercicio:"
      ],
      "metadata": {
        "id": "3rls4U-Ap6sr"
      }
    },
    {
      "cell_type": "code",
      "source": [
        "lista = []\n",
        "for i in range(5):\n",
        "    num = int(input(f\"insira o numero {i+1} \"))\n",
        "    lista.append(num)\n",
        "pares = []\n",
        "impares = []\n",
        "for n in lista:\n",
        "    if n % 2 == 0:\n",
        "        pares.append(n)\n",
        "    else:\n",
        "        impares.append(n)\n",
        "print(\"pares:\", pares)\n",
        "print(\"impares:\", impares)"
      ],
      "metadata": {
        "id": "KUQBc8yhp88u"
      },
      "execution_count": null,
      "outputs": []
    },
    {
      "cell_type": "markdown",
      "source": [
        "#46º Exercicio:"
      ],
      "metadata": {
        "id": "h3G6oPMbp__y"
      }
    },
    {
      "cell_type": "code",
      "source": [
        "import statistics\n",
        "lista = []\n",
        "for i in range(5):\n",
        "    num = int(input(f\"insira o numero {i+1} \"))\n",
        "    lista.append(num)\n",
        "media = statistics.mean(lista)\n",
        "desvio_padrao = statistics.stdev(lista)\n",
        "print(\"media:\", media)\n",
        "print(\"desvio padrao:\", desvio_padrao)"
      ],
      "metadata": {
        "id": "oEpUejOXqB8a"
      },
      "execution_count": null,
      "outputs": []
    },
    {
      "cell_type": "markdown",
      "source": [
        "#47º Exercicio:"
      ],
      "metadata": {
        "id": "i3NRWPvTqDmr"
      }
    },
    {
      "cell_type": "code",
      "source": [
        "lista = []\n",
        "for i in range(5):\n",
        "    num = int(input(f\"insira o numero {i+1} \"))\n",
        "    lista.append(num)\n",
        "contagem = {}\n",
        "for n in lista:\n",
        "    if n in contagem:\n",
        "        contagem[n] += 1\n",
        "    else:\n",
        "        contagem[n] = 1\n",
        "print(\"contagem de numeros:\", contagem)"
      ],
      "metadata": {
        "id": "FsFuVT87qFpX"
      },
      "execution_count": null,
      "outputs": []
    },
    {
      "cell_type": "markdown",
      "source": [
        "#48º Exericio:"
      ],
      "metadata": {
        "id": "9BQHw3f0qH1Q"
      }
    },
    {
      "cell_type": "code",
      "source": [
        "lista = []\n",
        "for i in range(5):\n",
        "    num = int(input(f\"insira o numero {i+1} \"))\n",
        "    lista.append(num)\n",
        "for i in range(1, len(lista)):\n",
        "    chave = lista[i]\n",
        "    j = i - 1\n",
        "    while j >= 0 and chave < lista[j]:\n",
        "        lista[j + 1] = lista[j]\n",
        "        j -= 1\n",
        "    lista[j + 1] = chave\n",
        "print(\"lista ordenada:\", lista)"
      ],
      "metadata": {
        "id": "ixRuTinVqJTe"
      },
      "execution_count": null,
      "outputs": []
    },
    {
      "cell_type": "markdown",
      "source": [
        "#49º Exercicio:"
      ],
      "metadata": {
        "id": "-7iKCxotqL4q"
      }
    },
    {
      "cell_type": "code",
      "source": [
        "num = int(input(\"insira um numero \"))\n",
        "soma = 0\n",
        "for d in str(num):\n",
        "    soma += int(d)\n",
        "print(\"a soma dos digitos é\", soma)"
      ],
      "metadata": {
        "id": "WLPWtTtGqO7F"
      },
      "execution_count": null,
      "outputs": []
    },
    {
      "cell_type": "markdown",
      "source": [
        "#50º Exercicio:"
      ],
      "metadata": {
        "id": "zemPR-faqRH8"
      }
    },
    {
      "cell_type": "code",
      "source": [
        "str = input(\"insira uma palavra \")\n",
        "freq = {}\n",
        "for c in str:\n",
        "    if c in freq:\n",
        "        freq[c] += 1\n",
        "    else:\n",
        "        freq[c] = 1\n",
        "print(\"frequencia das letras:\", freq)"
      ],
      "metadata": {
        "id": "mmMd2JNmqUDi"
      },
      "execution_count": null,
      "outputs": []
    }
  ]
}